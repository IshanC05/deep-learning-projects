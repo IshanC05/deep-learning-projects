{
  "nbformat": 4,
  "nbformat_minor": 0,
  "metadata": {
    "accelerator": "GPU",
    "colab": {
      "name": "XRay Image Classification.ipynb",
      "provenance": [],
      "collapsed_sections": []
    },
    "kernelspec": {
      "display_name": "Python 3",
      "language": "python",
      "name": "python3"
    },
    "language_info": {
      "codemirror_mode": {
        "name": "ipython",
        "version": 3
      },
      "file_extension": ".py",
      "mimetype": "text/x-python",
      "name": "python",
      "nbconvert_exporter": "python",
      "pygments_lexer": "ipython3",
      "version": "3.7.6"
    }
  },
  "cells": [
    {
      "cell_type": "code",
      "metadata": {
        "id": "vb0iculqdG_L"
      },
      "source": [
        "# Jovian Commit Essentials\n",
        "# Please retain and execute this cell without modifying the contents for `jovian.commit` to work\n",
        "!pip install jovian --upgrade -q\n",
        "import jovian\n",
        "jovian.utils.colab.set_colab_file_id('1Gjsg9_ybGNkIuW4Vq66JoHUpO1DjGrCR')"
      ],
      "execution_count": null,
      "outputs": []
    },
    {
      "cell_type": "markdown",
      "metadata": {
        "id": "aoYBbgwi-o48"
      },
      "source": [
        "# XRay Classification Project\r\n",
        "In this project, I've built a deep learning model from scratch and trained it to classify if a Xray of the person is normal or the person has pneumonia. I got the dataset from [Kaggle](https://www.kaggle.com/paultimothymooney/chest-xray-pneumonia)."
      ]
    },
    {
      "cell_type": "code",
      "metadata": {
        "id": "kjYAbXqGtyk6"
      },
      "source": [
        "!pip install jovian --upgrade --quiet"
      ],
      "execution_count": null,
      "outputs": []
    },
    {
      "cell_type": "code",
      "metadata": {
        "id": "xp63qgeetyk9"
      },
      "source": [
        "#Import the libraries\r\n",
        "\r\n",
        "import os\r\n",
        "import pandas as pd\r\n",
        "import numpy as np\r\n",
        "import matplotlib.pyplot as plt\r\n",
        "import torch\r\n",
        "import torchvision\r\n",
        "import tarfile\r\n",
        "from torchvision.datasets.utils import download_url\r\n",
        "from torch.utils.data import random_split\r\n",
        "\r\n",
        "from torchvision.datasets import ImageFolder\r\n",
        "from torchvision.transforms import ToTensor"
      ],
      "execution_count": null,
      "outputs": []
    },
    {
      "cell_type": "code",
      "metadata": {
        "id": "DBc878Rbt-FO"
      },
      "source": [
        "project_name = 'xray-classification-project-pytorch'"
      ],
      "execution_count": null,
      "outputs": []
    },
    {
      "cell_type": "code",
      "metadata": {
        "id": "ncKiJRhbt96e"
      },
      "source": [
        "!pip install opendatasets --upgrade\r\n",
        "import opendatasets as od\r\n",
        "dataset_url = 'https://www.kaggle.com/paultimothymooney/chest-xray-pneumonia'\r\n",
        "od.download(dataset_url)"
      ],
      "execution_count": null,
      "outputs": []
    },
    {
      "cell_type": "code",
      "metadata": {
        "colab": {
          "base_uri": "https://localhost:8080/"
        },
        "id": "q3O9J8Zst91E",
        "outputId": "b0c48a93-d1c6-4718-a6c2-403280d12e4a"
      },
      "source": [
        "device = torch.device(\"cuda:1\" if torch.cuda.is_available() else \"cpu:1\")\r\n",
        "print(device)"
      ],
      "execution_count": null,
      "outputs": [
        {
          "output_type": "stream",
          "text": [
            "cuda:1\n"
          ],
          "name": "stdout"
        }
      ]
    },
    {
      "cell_type": "code",
      "metadata": {
        "colab": {
          "base_uri": "https://localhost:8080/"
        },
        "id": "ciyj0rIWt9ue",
        "outputId": "1b2653f8-cc01-4eef-fe0a-02349d0198be"
      },
      "source": [
        "data_dir = '/content/chest-xray-pneumonia/chest_xray'\r\n",
        "\r\n",
        "print(os.listdir(data_dir))"
      ],
      "execution_count": null,
      "outputs": [
        {
          "output_type": "stream",
          "text": [
            "['__MACOSX', 'val', 'chest_xray', 'test', 'train']\n"
          ],
          "name": "stdout"
        }
      ]
    },
    {
      "cell_type": "code",
      "metadata": {
        "colab": {
          "base_uri": "https://localhost:8080/"
        },
        "id": "dl9P4Exwt9n6",
        "outputId": "fc1bade4-c0ae-4e70-db49-c0c1a3716a69"
      },
      "source": [
        "normal_train_files = os.listdir(data_dir + \"/train/NORMAL\")\r\n",
        "print(\"No. of test examples for normal xray:\", len(normal_train_files))\r\n",
        "print(normal_train_files[:5])"
      ],
      "execution_count": null,
      "outputs": [
        {
          "output_type": "stream",
          "text": [
            "No. of test examples for normal xray: 1341\n",
            "['IM-0410-0001.jpeg', 'NORMAL2-IM-0652-0001.jpeg', 'NORMAL2-IM-0588-0001.jpeg', 'NORMAL2-IM-1234-0001.jpeg', 'NORMAL2-IM-1154-0001.jpeg']\n"
          ],
          "name": "stdout"
        }
      ]
    },
    {
      "cell_type": "code",
      "metadata": {
        "id": "AOKHKWNRt9iV"
      },
      "source": [
        "dataset_train = ImageFolder(data_dir+\"/train\", transform=ToTensor())"
      ],
      "execution_count": null,
      "outputs": []
    },
    {
      "cell_type": "code",
      "metadata": {
        "id": "Q9EM2u6g8j5r"
      },
      "source": [
        "dataset_test = ImageFolder(data_dir+\"/test\", transform=ToTensor())"
      ],
      "execution_count": null,
      "outputs": []
    },
    {
      "cell_type": "code",
      "metadata": {
        "colab": {
          "base_uri": "https://localhost:8080/"
        },
        "id": "5wSXVqYFt9c4",
        "outputId": "1d9da840-413d-453f-bc9a-a9356f8dee99"
      },
      "source": [
        "len(dataset_train)"
      ],
      "execution_count": null,
      "outputs": [
        {
          "output_type": "execute_result",
          "data": {
            "text/plain": [
              "5216"
            ]
          },
          "metadata": {
            "tags": []
          },
          "execution_count": 15
        }
      ]
    },
    {
      "cell_type": "code",
      "metadata": {
        "colab": {
          "base_uri": "https://localhost:8080/"
        },
        "id": "QLIJi0lZt9Wp",
        "outputId": "777dd991-f2f7-43cb-9a24-6d7834c972d4"
      },
      "source": [
        "im_count = 0\r\n",
        "for image,_ in dataset_train:\r\n",
        "  im_count += 1\r\n",
        "  print(image.shape)\r\n",
        "  if im_count == 10:\r\n",
        "    break "
      ],
      "execution_count": null,
      "outputs": [
        {
          "output_type": "stream",
          "text": [
            "torch.Size([3, 1858, 2090])\n",
            "torch.Size([3, 1152, 1422])\n",
            "torch.Size([3, 1434, 1810])\n",
            "torch.Size([3, 1279, 1618])\n",
            "torch.Size([3, 1125, 1600])\n",
            "torch.Size([3, 1306, 1974])\n",
            "torch.Size([3, 1013, 1528])\n",
            "torch.Size([3, 1167, 1384])\n",
            "torch.Size([3, 1144, 1450])\n",
            "torch.Size([3, 993, 1468])\n"
          ],
          "name": "stdout"
        }
      ]
    },
    {
      "cell_type": "code",
      "metadata": {
        "colab": {
          "base_uri": "https://localhost:8080/"
        },
        "id": "6y1h7OfF6PfH",
        "outputId": "d20257f7-1cf7-4c67-b53b-cca5d58d19e9"
      },
      "source": [
        "dataset_train.classes"
      ],
      "execution_count": null,
      "outputs": [
        {
          "output_type": "execute_result",
          "data": {
            "text/plain": [
              "['NORMAL', 'PNEUMONIA']"
            ]
          },
          "metadata": {
            "tags": []
          },
          "execution_count": 17
        }
      ]
    },
    {
      "cell_type": "code",
      "metadata": {
        "id": "OqTh6Etz6PY0"
      },
      "source": [
        "import torchvision.transforms as transforms\r\n",
        "transform = transforms.Compose([transforms.Resize((100, 100)), transforms.ToTensor()])"
      ],
      "execution_count": null,
      "outputs": []
    },
    {
      "cell_type": "code",
      "metadata": {
        "id": "HpNzr3k76PSs"
      },
      "source": [
        "dataset_train = ImageFolder(data_dir+\"/train\", transform = transform)"
      ],
      "execution_count": null,
      "outputs": []
    },
    {
      "cell_type": "code",
      "metadata": {
        "id": "ld1bt_eO2mWw"
      },
      "source": [
        "dataset_test = ImageFolder(data_dir+\"/test\", transform = transform)"
      ],
      "execution_count": null,
      "outputs": []
    },
    {
      "cell_type": "code",
      "metadata": {
        "colab": {
          "base_uri": "https://localhost:8080/"
        },
        "id": "tFDwQndP6va4",
        "outputId": "18933667-4992-4de7-ac6f-64bdc67e6cd4"
      },
      "source": [
        "#Changing the size of the images\r\n",
        "\r\n",
        "im_count = 0\r\n",
        "for image,_ in dataset_train:\r\n",
        "  im_count += 1\r\n",
        "  print(image.shape)\r\n",
        "  if im_count == 10:\r\n",
        "    break  "
      ],
      "execution_count": null,
      "outputs": [
        {
          "output_type": "stream",
          "text": [
            "torch.Size([3, 100, 100])\n",
            "torch.Size([3, 100, 100])\n",
            "torch.Size([3, 100, 100])\n",
            "torch.Size([3, 100, 100])\n",
            "torch.Size([3, 100, 100])\n",
            "torch.Size([3, 100, 100])\n",
            "torch.Size([3, 100, 100])\n",
            "torch.Size([3, 100, 100])\n",
            "torch.Size([3, 100, 100])\n",
            "torch.Size([3, 100, 100])\n"
          ],
          "name": "stdout"
        }
      ]
    },
    {
      "cell_type": "code",
      "metadata": {
        "colab": {
          "base_uri": "https://localhost:8080/"
        },
        "id": "osXo-_Ae6PGa",
        "outputId": "c378ee8a-99ce-44ee-8f98-1e47dee71cae"
      },
      "source": [
        "img, label = dataset_train[800]\r\n",
        "print(img.shape, label)"
      ],
      "execution_count": null,
      "outputs": [
        {
          "output_type": "stream",
          "text": [
            "torch.Size([3, 100, 100]) 0\n"
          ],
          "name": "stdout"
        }
      ]
    },
    {
      "cell_type": "code",
      "metadata": {
        "id": "iv6Msdkd6PA-"
      },
      "source": [
        "def show_example(img,label):\r\n",
        "  print('Label: ', dataset_train.classes[label], '('+str(label)+')')\r\n",
        "  plt.imshow(img.permute(1, 2, 0))"
      ],
      "execution_count": null,
      "outputs": []
    },
    {
      "cell_type": "code",
      "metadata": {
        "colab": {
          "base_uri": "https://localhost:8080/",
          "height": 285
        },
        "id": "IFBmFtYs6O6h",
        "outputId": "afe9b1fa-72ea-4432-c0fd-59c04601df96"
      },
      "source": [
        "show_example(*dataset_train[3119])"
      ],
      "execution_count": null,
      "outputs": [
        {
          "output_type": "stream",
          "text": [
            "Label:  PNEUMONIA (1)\n"
          ],
          "name": "stdout"
        },
        {
          "output_type": "display_data",
          "data": {
            "image/png": "[encoded data removed]",
            "text/plain": [
              "<Figure size 432x288 with 1 Axes>"
            ]
          },
          "metadata": {
            "tags": [],
            "needs_background": "light"
          }
        }
      ]
    },
    {
      "cell_type": "code",
      "metadata": {
        "colab": {
          "base_uri": "https://localhost:8080/",
          "height": 142
        },
        "id": "klo-SLmw6-zN",
        "outputId": "5f7068fd-a79d-417f-df18-9e34a632a9b9"
      },
      "source": [
        "import jovian\r\n",
        "jovian.commit(project = project_name)"
      ],
      "execution_count": null,
      "outputs": [
        {
          "output_type": "stream",
          "text": [
            "[jovian] Detected Colab notebook...\u001b[0m\n",
            "[jovian] Please enter your API key ( from https://jovian.ai/ ):\u001b[0m\n",
            "API KEY: ··········\n",
            "[jovian] Uploading colab notebook to Jovian...\u001b[0m\n",
            "[jovian] Capturing environment..\u001b[0m\n",
            "[jovian] Committed successfully! https://jovian.ai/ishaanchugh06/xray-test\u001b[0m\n"
          ],
          "name": "stdout"
        },
        {
          "output_type": "execute_result",
          "data": {
            "application/vnd.google.colaboratory.intrinsic+json": {
              "type": "string"
            },
            "text/plain": [
              "'https://jovian.ai/ishaanchugh06/xray-test'"
            ]
          },
          "metadata": {
            "tags": []
          },
          "execution_count": 29
        }
      ]
    },
    {
      "cell_type": "markdown",
      "metadata": {
        "id": "uYaEDrer7Pgr"
      },
      "source": [
        "# **Data loading and batch creation**"
      ]
    },
    {
      "cell_type": "code",
      "metadata": {
        "id": "K2hFYcMy6-s4"
      },
      "source": [
        "random_seed = 0\r\n",
        "torch.manual_seed(random_seed);"
      ],
      "execution_count": null,
      "outputs": []
    },
    {
      "cell_type": "code",
      "metadata": {
        "id": "LZYXyn0n6-eJ"
      },
      "source": [
        "from torch.utils.data.dataloader import DataLoader\r\n",
        "\r\n",
        "batch_size = 20"
      ],
      "execution_count": null,
      "outputs": []
    },
    {
      "cell_type": "code",
      "metadata": {
        "colab": {
          "base_uri": "https://localhost:8080/"
        },
        "id": "esAJ-sYH5o55",
        "outputId": "979826ba-d6aa-4644-bb3a-bf519b06eb03"
      },
      "source": [
        "val_size = 1000\r\n",
        "train_size = len(dataset_train) - val_size\r\n",
        "\r\n",
        "data_train, data_val = random_split(dataset_train, [train_size, val_size])\r\n",
        "len(data_train), len(data_val)"
      ],
      "execution_count": null,
      "outputs": [
        {
          "output_type": "execute_result",
          "data": {
            "text/plain": [
              "(4216, 1000)"
            ]
          },
          "metadata": {
            "tags": []
          },
          "execution_count": 59
        }
      ]
    },
    {
      "cell_type": "code",
      "metadata": {
        "id": "yG2uQTNQ6-W-"
      },
      "source": [
        "train_dl = DataLoader(data_train, batch_size, shuffle = True, num_workers= 4, pin_memory=True)\r\n",
        "val_dl = DataLoader(data_val, batch_size*2, num_workers=4, pin_memory=True)\r\n",
        "test_dl = DataLoader(dataset_test, batch_size*2, num_workers=4, pin_memory=True)"
      ],
      "execution_count": null,
      "outputs": []
    },
    {
      "cell_type": "code",
      "metadata": {
        "id": "T4snFnu66-RC"
      },
      "source": [
        "from torchvision.utils import make_grid\r\n",
        "\r\n",
        "def show_batch(dl):\r\n",
        "  for img, label in dl:\r\n",
        "    fig, ax = plt.subplots(figsize = (16, 12))\r\n",
        "    ax.set_xticks([]); ax.set_yticks([])\r\n",
        "    ax.imshow(make_grid(img, nrow = 16).permute(1,2,0))\r\n",
        "    break"
      ],
      "execution_count": null,
      "outputs": []
    },
    {
      "cell_type": "code",
      "metadata": {
        "colab": {
          "base_uri": "https://localhost:8080/",
          "height": 91
        },
        "id": "7vtGXNSC6-Lo",
        "outputId": "0acdfcda-2a82-4973-d511-901615910ffd"
      },
      "source": [
        "show_batch(train_dl)"
      ],
      "execution_count": null,
      "outputs": [
        {
          "output_type": "display_data",
          "data": {
            "image/png": "[encoded data removed]",
            "text/plain": [
              "<Figure size 1152x864 with 1 Axes>"
            ]
          },
          "metadata": {
            "tags": []
          }
        }
      ]
    },
    {
      "cell_type": "code",
      "metadata": {
        "colab": {
          "base_uri": "https://localhost:8080/",
          "height": 124
        },
        "id": "oqMe97qc6-GA",
        "outputId": "74d5bc66-0624-47d3-853c-f58b73dd7144"
      },
      "source": [
        "jovian.commit(project = project_name)"
      ],
      "execution_count": null,
      "outputs": [
        {
          "output_type": "stream",
          "text": [
            "[jovian] Detected Colab notebook...\u001b[0m\n",
            "[jovian] Uploading colab notebook to Jovian...\u001b[0m\n",
            "[jovian] Capturing environment..\u001b[0m\n",
            "[jovian] Attaching records (metrics, hyperparameters, dataset etc.)\u001b[0m\n",
            "[jovian] Committed successfully! https://jovian.ai/ishaanchugh06/xray-test\u001b[0m\n"
          ],
          "name": "stdout"
        },
        {
          "output_type": "execute_result",
          "data": {
            "application/vnd.google.colaboratory.intrinsic+json": {
              "type": "string"
            },
            "text/plain": [
              "'https://jovian.ai/ishaanchugh06/xray-test'"
            ]
          },
          "metadata": {
            "tags": []
          },
          "execution_count": 93
        }
      ]
    },
    {
      "cell_type": "markdown",
      "metadata": {
        "id": "pYH_3G3x_6CD"
      },
      "source": [
        "# **Model creation+Training**"
      ]
    },
    {
      "cell_type": "code",
      "metadata": {
        "id": "CmPp5CRQ6-AX"
      },
      "source": [
        "import torch.nn as nn\r\n",
        "import torch.nn.functional as F"
      ],
      "execution_count": null,
      "outputs": []
    },
    {
      "cell_type": "code",
      "metadata": {
        "id": "eZyZKjMC9QNI"
      },
      "source": [
        "sample_model = nn.Sequential(\r\n",
        "    nn.Conv2d(3, 32, kernel_size=3, padding=1),\r\n",
        "    nn.MaxPool2d(2, 2)\r\n",
        ")"
      ],
      "execution_count": null,
      "outputs": []
    },
    {
      "cell_type": "code",
      "metadata": {
        "colab": {
          "base_uri": "https://localhost:8080/"
        },
        "id": "NmCkokaf9QFe",
        "outputId": "3f312601-cc20-4e7b-a87c-b0dfb8fe0d5b"
      },
      "source": [
        "for images, labels in train_dl:\r\n",
        "    print(\"images shape: \", images.shape)\r\n",
        "    out = sample_model(images)\r\n",
        "    print(\"out shape\", out.shape)\r\n",
        "    break"
      ],
      "execution_count": null,
      "outputs": [
        {
          "output_type": "stream",
          "text": [
            "images shape:  torch.Size([16, 3, 100, 100])\n",
            "out shape torch.Size([16, 32, 50, 50])\n"
          ],
          "name": "stdout"
        }
      ]
    },
    {
      "cell_type": "code",
      "metadata": {
        "id": "sTqzofBD9P-J"
      },
      "source": [
        "class ImageClassificationBase(nn.Module):\r\n",
        "    def training_step(self, batch):\r\n",
        "        images, labels = batch \r\n",
        "        out = self(images)                  # Generate predictions\r\n",
        "        loss = F.cross_entropy(out, labels) # Calculate loss\r\n",
        "        return loss\r\n",
        "    \r\n",
        "    def validation_step(self, batch):\r\n",
        "        images, labels = batch \r\n",
        "        out = self(images)                    # Generate predictions\r\n",
        "        loss = F.cross_entropy(out, labels)   # Calculate loss\r\n",
        "        acc = accuracy(out, labels)           # Calculate accuracy\r\n",
        "        return {'val_loss': loss.detach(), 'val_acc': acc}\r\n",
        "        \r\n",
        "    def validation_epoch_end(self, outputs):\r\n",
        "        batch_losses = [x['val_loss'] for x in outputs]\r\n",
        "        epoch_loss = torch.stack(batch_losses).mean()   # Combine losses\r\n",
        "        batch_accs = [x['val_acc'] for x in outputs]\r\n",
        "        epoch_acc = torch.stack(batch_accs).mean()      # Combine accuracies\r\n",
        "        return {'val_loss': epoch_loss.item(), 'val_acc': epoch_acc.item()}\r\n",
        "    \r\n",
        "    def epoch_end(self, epoch, result):\r\n",
        "        print(\"Epoch [{}], train_loss: {:.4f}, val_loss: {:.4f}, val_acc: {:.4f}\".format(\r\n",
        "            epoch, result['train_loss'], result['val_loss'], result['val_acc']))\r\n",
        "        \r\n",
        "def accuracy(outputs, labels):\r\n",
        "    _, preds = torch.max(outputs, dim=1)\r\n",
        "    return torch.tensor(torch.sum(preds == labels).item() / len(preds))"
      ],
      "execution_count": null,
      "outputs": []
    },
    {
      "cell_type": "code",
      "metadata": {
        "id": "sEuUKLbr9Pzg"
      },
      "source": [
        "class XRayCnnModel(ImageClassificationBase):\r\n",
        "    def __init__(self):\r\n",
        "        super().__init__()\r\n",
        "        self.network = nn.Sequential(\r\n",
        "            nn.Conv2d(3, 32, kernel_size=3, padding=1),\r\n",
        "            nn.ReLU(),\r\n",
        "            nn.Conv2d(32, 64, kernel_size=3,stride=1, padding=1),\r\n",
        "            nn.ReLU(),\r\n",
        "            nn.MaxPool2d(2, 2),  # Output size: 64 x 50 x 50\r\n",
        "            \r\n",
        "            nn.Conv2d(64, 128, kernel_size=3, padding=1),\r\n",
        "            nn.ReLU(),\r\n",
        "            nn.Conv2d(128, 128, kernel_size=3,stride=1, padding=1),\r\n",
        "            nn.ReLU(),\r\n",
        "            nn.MaxPool2d(2, 2),  # Output size: 128 x 25 x 25\r\n",
        "            \r\n",
        "            nn.Conv2d(128, 256, kernel_size=3, padding=1),\r\n",
        "            nn.ReLU(),\r\n",
        "            nn.Conv2d(256, 256, kernel_size=3,stride=1, padding=1),\r\n",
        "            nn.ReLU(),\r\n",
        "            nn.MaxPool2d(2, 2),  # Output size: 256 x 12 x 12\r\n",
        "            \r\n",
        "            nn.Conv2d(256, 512, kernel_size=3, padding=1),\r\n",
        "            nn.ReLU(),\r\n",
        "            nn.Conv2d(512, 512, kernel_size=3,stride=1, padding=1),\r\n",
        "            nn.ReLU(),\r\n",
        "            nn.MaxPool2d(2, 2),  # Output size: 512 x 6 x 6\r\n",
        "            \r\n",
        "            nn.Flatten(),\r\n",
        "            nn.Linear(512*6*6, 2048),\r\n",
        "            nn.ReLU(),\r\n",
        "            nn.Linear(2048, 1024),\r\n",
        "            nn.ReLU(),\r\n",
        "            nn.Linear(1024, 512),\r\n",
        "            nn.ReLU(),\r\n",
        "            nn.Linear(512, 128),\r\n",
        "            nn.ReLU(),\r\n",
        "            nn.Linear(128, 64),\r\n",
        "            nn.ReLU(),\r\n",
        "            nn.Linear(64, 32),\r\n",
        "            nn.ReLU(),\r\n",
        "            nn.Linear(32, 16),\r\n",
        "            nn.ReLU(),\r\n",
        "            nn.Linear(16, 8),\r\n",
        "            nn.ReLU(),\r\n",
        "            nn.Linear(8, 4),\r\n",
        "            nn.ReLU(),\r\n",
        "            nn.Linear(4, 2))\r\n",
        "        \r\n",
        "    def forward(self, xb):\r\n",
        "        return self.network(xb)"
      ],
      "execution_count": null,
      "outputs": []
    },
    {
      "cell_type": "code",
      "metadata": {
        "colab": {
          "base_uri": "https://localhost:8080/"
        },
        "id": "R1YWm3uC9Pqt",
        "outputId": "ef4087db-a5f5-4db3-cd50-0d1baa1e4a9c"
      },
      "source": [
        "model = XRayCnnModel()\r\n",
        "model"
      ],
      "execution_count": null,
      "outputs": [
        {
          "output_type": "execute_result",
          "data": {
            "text/plain": [
              "XRayCnnModel(\n",
              "  (network): Sequential(\n",
              "    (0): Conv2d(3, 32, kernel_size=(3, 3), stride=(1, 1), padding=(1, 1))\n",
              "    (1): ReLU()\n",
              "    (2): Conv2d(32, 64, kernel_size=(3, 3), stride=(1, 1), padding=(1, 1))\n",
              "    (3): ReLU()\n",
              "    (4): MaxPool2d(kernel_size=2, stride=2, padding=0, dilation=1, ceil_mode=False)\n",
              "    (5): Conv2d(64, 128, kernel_size=(3, 3), stride=(1, 1), padding=(1, 1))\n",
              "    (6): ReLU()\n",
              "    (7): Conv2d(128, 128, kernel_size=(3, 3), stride=(1, 1), padding=(1, 1))\n",
              "    (8): ReLU()\n",
              "    (9): MaxPool2d(kernel_size=2, stride=2, padding=0, dilation=1, ceil_mode=False)\n",
              "    (10): Conv2d(128, 256, kernel_size=(3, 3), stride=(1, 1), padding=(1, 1))\n",
              "    (11): ReLU()\n",
              "    (12): Conv2d(256, 256, kernel_size=(3, 3), stride=(1, 1), padding=(1, 1))\n",
              "    (13): ReLU()\n",
              "    (14): MaxPool2d(kernel_size=2, stride=2, padding=0, dilation=1, ceil_mode=False)\n",
              "    (15): Conv2d(256, 512, kernel_size=(3, 3), stride=(1, 1), padding=(1, 1))\n",
              "    (16): ReLU()\n",
              "    (17): Conv2d(512, 512, kernel_size=(3, 3), stride=(1, 1), padding=(1, 1))\n",
              "    (18): ReLU()\n",
              "    (19): MaxPool2d(kernel_size=2, stride=2, padding=0, dilation=1, ceil_mode=False)\n",
              "    (20): Flatten(start_dim=1, end_dim=-1)\n",
              "    (21): Linear(in_features=18432, out_features=2048, bias=True)\n",
              "    (22): ReLU()\n",
              "    (23): Linear(in_features=2048, out_features=1024, bias=True)\n",
              "    (24): ReLU()\n",
              "    (25): Linear(in_features=1024, out_features=512, bias=True)\n",
              "    (26): ReLU()\n",
              "    (27): Linear(in_features=512, out_features=128, bias=True)\n",
              "    (28): ReLU()\n",
              "    (29): Linear(in_features=128, out_features=64, bias=True)\n",
              "    (30): ReLU()\n",
              "    (31): Linear(in_features=64, out_features=32, bias=True)\n",
              "    (32): ReLU()\n",
              "    (33): Linear(in_features=32, out_features=16, bias=True)\n",
              "    (34): ReLU()\n",
              "    (35): Linear(in_features=16, out_features=8, bias=True)\n",
              "    (36): ReLU()\n",
              "    (37): Linear(in_features=8, out_features=4, bias=True)\n",
              "    (38): ReLU()\n",
              "    (39): Linear(in_features=4, out_features=2, bias=True)\n",
              "  )\n",
              ")"
            ]
          },
          "metadata": {
            "tags": []
          },
          "execution_count": 67
        }
      ]
    },
    {
      "cell_type": "code",
      "metadata": {
        "colab": {
          "base_uri": "https://localhost:8080/"
        },
        "id": "UneR-a699Pjh",
        "outputId": "5357d7d5-6203-4f58-ddf5-a00ac6fd9378"
      },
      "source": [
        "for images, labels in train_dl:\r\n",
        "    print(\"images shape: \", images.shape)\r\n",
        "    out = model(images)\r\n",
        "    print(\"out shape: \", out.shape)\r\n",
        "    print(\"out[0]: \", out[0])\r\n",
        "    break"
      ],
      "execution_count": null,
      "outputs": [
        {
          "output_type": "stream",
          "text": [
            "images shape:  torch.Size([16, 3, 100, 100])\n",
            "out shape:  torch.Size([16, 2])\n",
            "out[0]:  tensor([0.3061, 0.2339], grad_fn=<SelectBackward>)\n"
          ],
          "name": "stdout"
        }
      ]
    },
    {
      "cell_type": "code",
      "metadata": {
        "colab": {
          "base_uri": "https://localhost:8080/"
        },
        "id": "63Of1yWk9Pde",
        "outputId": "dfa2cb0e-02dc-42d8-ff65-4727822cef72"
      },
      "source": [
        "device = torch.device(\"cuda\" if torch.cuda.is_available() \r\n",
        "                                  else \"cpu\")\r\n",
        "device"
      ],
      "execution_count": null,
      "outputs": [
        {
          "output_type": "execute_result",
          "data": {
            "text/plain": [
              "device(type='cuda')"
            ]
          },
          "metadata": {
            "tags": []
          },
          "execution_count": 69
        }
      ]
    },
    {
      "cell_type": "code",
      "metadata": {
        "id": "3bmRJCxC9PXZ"
      },
      "source": [
        "def to_device(data, device):\r\n",
        "    \"\"\"Move tensor(s) to chosen device\"\"\"\r\n",
        "    if isinstance(data, (list,tuple)):\r\n",
        "        return [to_device(x, device) for x in data]\r\n",
        "    return data.to(device, non_blocking=True)\r\n",
        "\r\n",
        "class DeviceDataLoader():\r\n",
        "    \"\"\"Wrap a dataloader to move data to a device\"\"\"\r\n",
        "    def __init__(self, dl, device):\r\n",
        "        self.dl = dl\r\n",
        "        self.device = device\r\n",
        "        \r\n",
        "    def __iter__(self):\r\n",
        "        \"\"\"Yield a batch of data after moving it to device\"\"\"\r\n",
        "        for b in self.dl: \r\n",
        "            yield to_device(b, self.device)\r\n",
        "\r\n",
        "    def __len__(self):\r\n",
        "        \"\"\"Number of batches\"\"\"\r\n",
        "        return len(self.dl)"
      ],
      "execution_count": null,
      "outputs": []
    },
    {
      "cell_type": "code",
      "metadata": {
        "id": "fscHUQdG9PRa"
      },
      "source": [
        "train_loader = DeviceDataLoader(train_dl, device)\r\n",
        "val_loader = DeviceDataLoader(val_dl, device)\r\n",
        "test_loader = DeviceDataLoader(test_dl, device)\r\n",
        "to_device(model, device);"
      ],
      "execution_count": null,
      "outputs": []
    },
    {
      "cell_type": "code",
      "metadata": {
        "id": "XcLG_XD29PLd"
      },
      "source": [
        "@torch.no_grad()\r\n",
        "def evaluate(model, val_loader):\r\n",
        "    model.eval()\r\n",
        "    outputs = [model.validation_step(batch) for batch in val_loader]\r\n",
        "    return model.validation_epoch_end(outputs)\r\n",
        "\r\n",
        "def fit(epochs, lr, model, train_loader, val_loader, opt_func=torch.optim.SGD):\r\n",
        "    history = []\r\n",
        "    optimizer = opt_func(model.parameters(), lr)\r\n",
        "    for epoch in range(epochs):\r\n",
        "        # Training Phase \r\n",
        "        model.train()\r\n",
        "        train_losses = []\r\n",
        "        for batch in train_loader:\r\n",
        "            loss = model.training_step(batch)\r\n",
        "            train_losses.append(loss)\r\n",
        "            loss.backward()\r\n",
        "            optimizer.step()\r\n",
        "            optimizer.zero_grad()\r\n",
        "        # Validation phase\r\n",
        "        result = evaluate(model, val_loader)\r\n",
        "        result['train_loss'] = torch.stack(train_losses).mean().item()\r\n",
        "        model.epoch_end(epoch, result)\r\n",
        "        history.append(result)\r\n",
        "    return history"
      ],
      "execution_count": null,
      "outputs": []
    },
    {
      "cell_type": "code",
      "metadata": {
        "id": "3WsJj6pc9PFB"
      },
      "source": [
        "model = to_device(XRayCnnModel(), device)"
      ],
      "execution_count": null,
      "outputs": []
    },
    {
      "cell_type": "code",
      "metadata": {
        "colab": {
          "base_uri": "https://localhost:8080/"
        },
        "id": "ppEtwYr9olkJ",
        "outputId": "572a084d-2183-4a50-9755-30238a3ff1c6"
      },
      "source": [
        "model"
      ],
      "execution_count": null,
      "outputs": [
        {
          "output_type": "execute_result",
          "data": {
            "text/plain": [
              "XRayCnnModel(\n",
              "  (network): Sequential(\n",
              "    (0): Conv2d(3, 32, kernel_size=(3, 3), stride=(1, 1), padding=(1, 1))\n",
              "    (1): ReLU()\n",
              "    (2): Conv2d(32, 64, kernel_size=(3, 3), stride=(1, 1), padding=(1, 1))\n",
              "    (3): ReLU()\n",
              "    (4): MaxPool2d(kernel_size=2, stride=2, padding=0, dilation=1, ceil_mode=False)\n",
              "    (5): Conv2d(64, 128, kernel_size=(3, 3), stride=(1, 1), padding=(1, 1))\n",
              "    (6): ReLU()\n",
              "    (7): Conv2d(128, 128, kernel_size=(3, 3), stride=(1, 1), padding=(1, 1))\n",
              "    (8): ReLU()\n",
              "    (9): MaxPool2d(kernel_size=2, stride=2, padding=0, dilation=1, ceil_mode=False)\n",
              "    (10): Conv2d(128, 256, kernel_size=(3, 3), stride=(1, 1), padding=(1, 1))\n",
              "    (11): ReLU()\n",
              "    (12): Conv2d(256, 256, kernel_size=(3, 3), stride=(1, 1), padding=(1, 1))\n",
              "    (13): ReLU()\n",
              "    (14): MaxPool2d(kernel_size=2, stride=2, padding=0, dilation=1, ceil_mode=False)\n",
              "    (15): Conv2d(256, 512, kernel_size=(3, 3), stride=(1, 1), padding=(1, 1))\n",
              "    (16): ReLU()\n",
              "    (17): Conv2d(512, 512, kernel_size=(3, 3), stride=(1, 1), padding=(1, 1))\n",
              "    (18): ReLU()\n",
              "    (19): MaxPool2d(kernel_size=2, stride=2, padding=0, dilation=1, ceil_mode=False)\n",
              "    (20): Flatten(start_dim=1, end_dim=-1)\n",
              "    (21): Linear(in_features=18432, out_features=2048, bias=True)\n",
              "    (22): ReLU()\n",
              "    (23): Linear(in_features=2048, out_features=1024, bias=True)\n",
              "    (24): ReLU()\n",
              "    (25): Linear(in_features=1024, out_features=512, bias=True)\n",
              "    (26): ReLU()\n",
              "    (27): Linear(in_features=512, out_features=128, bias=True)\n",
              "    (28): ReLU()\n",
              "    (29): Linear(in_features=128, out_features=64, bias=True)\n",
              "    (30): ReLU()\n",
              "    (31): Linear(in_features=64, out_features=32, bias=True)\n",
              "    (32): ReLU()\n",
              "    (33): Linear(in_features=32, out_features=16, bias=True)\n",
              "    (34): ReLU()\n",
              "    (35): Linear(in_features=16, out_features=8, bias=True)\n",
              "    (36): ReLU()\n",
              "    (37): Linear(in_features=8, out_features=4, bias=True)\n",
              "    (38): ReLU()\n",
              "    (39): Linear(in_features=4, out_features=2, bias=True)\n",
              "  )\n",
              ")"
            ]
          },
          "metadata": {
            "tags": []
          },
          "execution_count": 75
        }
      ]
    },
    {
      "cell_type": "code",
      "metadata": {
        "colab": {
          "base_uri": "https://localhost:8080/"
        },
        "id": "LP80FxAjoldb",
        "outputId": "6b61ff5f-1138-4c2a-c07e-41f7a73dee42"
      },
      "source": [
        "#Initial Accuracy of the model\r\n",
        "\r\n",
        "evaluate(model, val_loader)"
      ],
      "execution_count": null,
      "outputs": [
        {
          "output_type": "execute_result",
          "data": {
            "text/plain": [
              "{'val_acc': 0.25390625, 'val_loss': 0.8276565074920654}"
            ]
          },
          "metadata": {
            "tags": []
          },
          "execution_count": 76
        }
      ]
    },
    {
      "cell_type": "code",
      "metadata": {
        "id": "41HC-4p8olV2"
      },
      "source": [
        "num_epochs = 10\r\n",
        "opt_func = torch.optim.Adam\r\n",
        "lr = 0.001"
      ],
      "execution_count": null,
      "outputs": []
    },
    {
      "cell_type": "code",
      "metadata": {
        "colab": {
          "base_uri": "https://localhost:8080/"
        },
        "id": "dhsTBbFMolPL",
        "outputId": "5f30f7a6-a614-4648-eafc-8fe38d1eef08"
      },
      "source": [
        "jovian.reset()\r\n",
        "jovian.log_hyperparams({\r\n",
        "    'num_epochs': num_epochs,\r\n",
        "    'opt_func': opt_func.__name__,\r\n",
        "    'batch_size': batch_size,\r\n",
        "    'lr': lr,\r\n",
        "})"
      ],
      "execution_count": null,
      "outputs": [
        {
          "output_type": "stream",
          "text": [
            "[jovian] Hyperparams logged.\u001b[0m\n"
          ],
          "name": "stdout"
        }
      ]
    },
    {
      "cell_type": "code",
      "metadata": {
        "colab": {
          "base_uri": "https://localhost:8080/"
        },
        "id": "av9UpwGMolID",
        "outputId": "98a7e5d3-adea-4214-f032-c50fc658c099"
      },
      "source": [
        "history = fit(num_epochs, lr, model, train_loader, val_loader, opt_func)"
      ],
      "execution_count": null,
      "outputs": [
        {
          "output_type": "stream",
          "text": [
            "Epoch [0], train_loss: 0.6211, val_loss: 0.4751, val_acc: 0.7461\n",
            "Epoch [1], train_loss: 0.5204, val_loss: 0.5075, val_acc: 0.7539\n",
            "Epoch [2], train_loss: 0.4104, val_loss: 0.2989, val_acc: 0.8818\n",
            "Epoch [3], train_loss: 0.3567, val_loss: 0.3258, val_acc: 0.8867\n",
            "Epoch [4], train_loss: 0.2750, val_loss: 0.2821, val_acc: 0.8994\n",
            "Epoch [5], train_loss: 0.2059, val_loss: 0.1852, val_acc: 0.9346\n",
            "Epoch [6], train_loss: 0.1560, val_loss: 0.2058, val_acc: 0.9229\n",
            "Epoch [7], train_loss: 0.1441, val_loss: 0.2432, val_acc: 0.9287\n",
            "Epoch [8], train_loss: 0.1202, val_loss: 0.1355, val_acc: 0.9541\n",
            "Epoch [9], train_loss: 0.1212, val_loss: 0.1326, val_acc: 0.9600\n"
          ],
          "name": "stdout"
        }
      ]
    },
    {
      "cell_type": "code",
      "metadata": {
        "colab": {
          "base_uri": "https://localhost:8080/"
        },
        "id": "yoy3Zevbok_g",
        "outputId": "1dd41704-df30-4ae1-e8a1-03f2fd5b08aa"
      },
      "source": [
        "jovian.log_metrics(train_loss=history[-1]['train_loss'], \r\n",
        "                   val_loss=history[-1]['val_loss'], \r\n",
        "                   val_acc=history[-1]['val_acc'])"
      ],
      "execution_count": null,
      "outputs": [
        {
          "output_type": "stream",
          "text": [
            "[jovian] Metrics logged.\u001b[0m\n"
          ],
          "name": "stdout"
        }
      ]
    },
    {
      "cell_type": "code",
      "metadata": {
        "id": "j-3qvTAro8a6"
      },
      "source": [
        "def plot_accuracies(history):\r\n",
        "    accuracies = [x['val_acc'] for x in history]\r\n",
        "    plt.plot(accuracies, '-x')\r\n",
        "    plt.xlabel('epoch')\r\n",
        "    plt.ylabel('accuracy')\r\n",
        "    plt.title('Accuracy vs. No. of epochs');"
      ],
      "execution_count": null,
      "outputs": []
    },
    {
      "cell_type": "code",
      "metadata": {
        "id": "DzrYeF88o8R3"
      },
      "source": [
        "def plot_losses(history):\r\n",
        "    train_losses = [x.get('train_loss') for x in history]\r\n",
        "    val_losses = [x['val_loss'] for x in history]\r\n",
        "    plt.plot(train_losses, '-bx')\r\n",
        "    plt.plot(val_losses, '-rx')\r\n",
        "    plt.xlabel('epoch')\r\n",
        "    plt.ylabel('loss')\r\n",
        "    plt.legend(['Training', 'Validation'])\r\n",
        "    plt.title('Loss vs. No. of epochs');"
      ],
      "execution_count": null,
      "outputs": []
    },
    {
      "cell_type": "code",
      "metadata": {
        "colab": {
          "base_uri": "https://localhost:8080/",
          "height": 294
        },
        "id": "B52uHvNoo8Ii",
        "outputId": "f693c2cf-9ea4-49ac-a29d-1b12958c5e11"
      },
      "source": [
        "plot_accuracies(history)"
      ],
      "execution_count": null,
      "outputs": [
        {
          "output_type": "display_data",
          "data": {
            "image/png": "[encoded data removed]",
            "text/plain": [
              "<Figure size 432x288 with 1 Axes>"
            ]
          },
          "metadata": {
            "tags": [],
            "needs_background": "light"
          }
        }
      ]
    },
    {
      "cell_type": "code",
      "metadata": {
        "colab": {
          "base_uri": "https://localhost:8080/",
          "height": 294
        },
        "id": "OH031GUxo8BV",
        "outputId": "ae528c62-1e45-42e7-c246-dd626f0a4b18"
      },
      "source": [
        "plot_losses(history)"
      ],
      "execution_count": null,
      "outputs": [
        {
          "output_type": "display_data",
          "data": {
            "image/png": "[encoded data removed]",
            "text/plain": [
              "<Figure size 432x288 with 1 Axes>"
            ]
          },
          "metadata": {
            "tags": [],
            "needs_background": "light"
          }
        }
      ]
    },
    {
      "cell_type": "code",
      "metadata": {
        "colab": {
          "base_uri": "https://localhost:8080/"
        },
        "id": "wR0hijEyo7zt",
        "outputId": "e719672f-2658-4e98-eea1-bc74aa2db342"
      },
      "source": [
        "result = evaluate(model, test_loader)\r\n",
        "result"
      ],
      "execution_count": null,
      "outputs": [
        {
          "output_type": "execute_result",
          "data": {
            "text/plain": [
              "{'val_acc': 0.8359375, 'val_loss': 0.9893828630447388}"
            ]
          },
          "metadata": {
            "tags": []
          },
          "execution_count": 87
        }
      ]
    },
    {
      "cell_type": "code",
      "metadata": {
        "colab": {
          "base_uri": "https://localhost:8080/"
        },
        "id": "GsRz3drMo7sN",
        "outputId": "3ce3783a-ce11-451f-a6da-093f2647cc48"
      },
      "source": [
        "jovian.log_metrics(test_loss=result['val_loss'], test_acc=result['val_acc'])"
      ],
      "execution_count": null,
      "outputs": [
        {
          "output_type": "stream",
          "text": [
            "[jovian] Metrics logged.\u001b[0m\n"
          ],
          "name": "stdout"
        }
      ]
    },
    {
      "cell_type": "code",
      "metadata": {
        "id": "IH4SWUPuo7l5"
      },
      "source": [
        "torch.save(model.state_dict(), 'XRayCnn.pth')"
      ],
      "execution_count": null,
      "outputs": []
    },
    {
      "cell_type": "code",
      "metadata": {
        "id": "uUwLuPc59RZS"
      },
      "source": [
        "model2 = to_device(XRayCnnModel(), device)"
      ],
      "execution_count": null,
      "outputs": []
    },
    {
      "cell_type": "code",
      "metadata": {
        "colab": {
          "base_uri": "https://localhost:8080/"
        },
        "id": "4etQIPjH9RSW",
        "outputId": "0eadb2d8-305a-4e0e-c6bf-53d4c495e0f6"
      },
      "source": [
        "model2.load_state_dict(torch.load('XRayCnn.pth'))"
      ],
      "execution_count": null,
      "outputs": [
        {
          "output_type": "execute_result",
          "data": {
            "text/plain": [
              "<All keys matched successfully>"
            ]
          },
          "metadata": {
            "tags": []
          },
          "execution_count": 91
        }
      ]
    },
    {
      "cell_type": "code",
      "metadata": {
        "colab": {
          "base_uri": "https://localhost:8080/"
        },
        "id": "XLAeerSF9RLU",
        "outputId": "889c1b7a-2e8e-4fbf-db00-3d8960cd6f69"
      },
      "source": [
        "evaluate(model2, test_loader)"
      ],
      "execution_count": null,
      "outputs": [
        {
          "output_type": "execute_result",
          "data": {
            "text/plain": [
              "{'val_acc': 0.8359375, 'val_loss': 0.9893828630447388}"
            ]
          },
          "metadata": {
            "tags": []
          },
          "execution_count": 92
        }
      ]
    },
    {
      "cell_type": "code",
      "metadata": {
        "colab": {
          "base_uri": "https://localhost:8080/",
          "height": 124
        },
        "id": "tPqAfDTp9REZ",
        "outputId": "7aef06dd-0be5-4f2f-9128-af5136e2a3ff"
      },
      "source": [
        "jovian.commit(project=project_name)"
      ],
      "execution_count": null,
      "outputs": [
        {
          "output_type": "stream",
          "text": [
            "[jovian] Detected Colab notebook...\u001b[0m\n",
            "[jovian] Uploading colab notebook to Jovian...\u001b[0m\n",
            "[jovian] Capturing environment..\u001b[0m\n",
            "[jovian] Attaching records (metrics, hyperparameters, dataset etc.)\u001b[0m\n",
            "[jovian] Committed successfully! https://jovian.ai/ishaanchugh06/xray-classification-project-pytorch\u001b[0m\n"
          ],
          "name": "stdout"
        },
        {
          "output_type": "execute_result",
          "data": {
            "application/vnd.google.colaboratory.intrinsic+json": {
              "type": "string"
            },
            "text/plain": [
              "'https://jovian.ai/ishaanchugh06/xray-classification-project-pytorch'"
            ]
          },
          "metadata": {
            "tags": []
          },
          "execution_count": 98
        }
      ]
    },
    {
      "cell_type": "code",
      "metadata": {
        "id": "lGWD4XjK9Q7R"
      },
      "source": [
        ""
      ],
      "execution_count": null,
      "outputs": []
    }
  ]
}